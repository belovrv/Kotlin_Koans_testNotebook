{
 "cells": [
  {
   "cell_type": "code",
   "metadata": {
    "collapsed": true,
    "ExecuteTime": {
     "end_time": "2025-09-10T10:53:52.670658Z",
     "start_time": "2025-09-10T10:53:52.154235Z"
    }
   },
   "source": "%use serialization, intellij-platform",
   "outputs": [
    {
     "data": {
      "text/plain": [
       "IntelliJ Platform integration is loaded"
      ]
     },
     "metadata": {},
     "output_type": "display_data",
     "jetTransient": {
      "display_id": null
     }
    }
   ],
   "execution_count": 1
  },
  {
   "metadata": {
    "ExecuteTime": {
     "end_time": "2025-09-10T10:54:32.547762Z",
     "start_time": "2025-09-10T10:54:32.132431Z"
    }
   },
   "cell_type": "code",
   "source": [
    "import java.io.File\n",
    "import java.nio.file.Path\n",
    "\n",
    "fun String.substitutePlaceholders(config: EduConfig): String {\n",
    "    // сортируем по убыванию offset, чтобы замены не сдвигали последующие\n",
    "    return config.placeholders\n",
    "        .sortedByDescending { it.offset }\n",
    "        .fold(this) { acc, ph ->\n",
    "            acc.replaceRange(ph.offset, ph.offset + ph.length, ph.placeholder_text)\n",
    "        }\n",
    "}\n",
    "\n",
    "@Serializable\n",
    "data class LessonsList(\n",
    "    val content: List<String>\n",
    ")\n",
    "\n",
    "@Serializable\n",
    "data class Placeholder(\n",
    "    val offset: Int,\n",
    "    val length: Int,\n",
    "    val placeholder_text: String\n",
    ")\n",
    "\n",
    "@Serializable\n",
    "data class EduConfig(\n",
    "    val name: String,\n",
    "    val visible: Boolean,\n",
    "    val placeholders: List<Placeholder> = emptyList()\n",
    ")\n",
    "\n",
    "@Serializable\n",
    "data class TaskInfo(\n",
    "    val type: String,\n",
    "    val files: List<EduConfig>,\n",
    "    val feedback_link: String\n",
    ")\n",
    "\n",
    "data class Lesson(val taskInfo: TaskInfo, val folderName: Path, val description: String)\n"
   ],
   "outputs": [],
   "execution_count": 3
  },
  {
   "metadata": {
    "ExecuteTime": {
     "end_time": "2025-09-10T10:54:37.862157Z",
     "start_time": "2025-09-10T10:54:34.726487Z"
    }
   },
   "cell_type": "code",
   "source": [
    "USE {\n",
    "    dependencies {\n",
    "        implementation(\"com.charleskorn.kaml:kaml-jvm:0.94.0\")\n",
    "    }\n",
    "}\n",
    "\n",
    "loadBundledPlugins(\"com.intellij.notebooks.core\", \"intellij.jupyter\")"
   ],
   "outputs": [],
   "execution_count": 4
  },
  {
   "metadata": {
    "ExecuteTime": {
     "end_time": "2025-09-10T10:54:55.992310Z",
     "start_time": "2025-09-10T10:54:55.954793Z"
    }
   },
   "cell_type": "code",
   "source": [
    "import java.nio.file.Paths\n",
    "val dir = Paths.get(\"/Users/Roman.Belov/Documents/JB/kotlin-koans-edu/Introduction\")"
   ],
   "outputs": [],
   "execution_count": 5
  },
  {
   "metadata": {
    "ExecuteTime": {
     "end_time": "2025-09-10T10:54:58.644697Z",
     "start_time": "2025-09-10T10:54:58.520862Z"
    }
   },
   "cell_type": "code",
   "source": [
    "import com.charleskorn.kaml.Yaml\n",
    "\n",
    "val lessons = Yaml\n",
    "    .default.decodeFromString<LessonsList>(dir.resolve(\"lesson-info.yaml\").toFile().readText())\n",
    "    .content.map {\n",
    "        Lesson(\n",
    "            Yaml.default.decodeFromString<TaskInfo>(dir.resolve(\"${it}/task-info.yaml\").toFile().readText()),\n",
    "            dir.resolve(\"${it}\"),\n",
    "            dir.resolve(\"${it}/task.md\").toFile().readText()\n",
    "        )\n",
    "    }"
   ],
   "outputs": [],
   "execution_count": 6
  },
  {
   "metadata": {
    "ExecuteTime": {
     "end_time": "2025-09-10T10:55:00.306111Z",
     "start_time": "2025-09-10T10:55:00.124372Z"
    }
   },
   "cell_type": "code",
   "source": [
    "import com.intellij.openapi.util.io.toNioPath\n",
    "import com.intellij.openapi.util.io.toNioPathOrNull\n",
    "import com.intellij.openapi.vfs.VirtualFileManager\n",
    "import okio.Path.Companion.toPath\n",
    "import com.intellij.jupyter.core.jupyter.helper.jupyterNotebookOrNull\n",
    "import com.intellij.openapi.editor.impl.EditorImpl\n",
    "import com.intellij.openapi.fileEditor.TextEditor\n",
    "\n",
    "val currentNotebook = currentEditor()?.file?.jupyterNotebookOrNull!!\n",
    "val editor = (currentEditor() as? TextEditor)?.editor as EditorImpl\n",
    "currentNotebook"
   ],
   "outputs": [
    {
     "data": {
      "text/plain": [
       "com.intellij.jupyter.core.jupyter.nbformat.JupyterNotebookBase@5ed45778"
      ]
     },
     "execution_count": 7,
     "metadata": {},
     "output_type": "execute_result"
    }
   ],
   "execution_count": 7
  },
  {
   "metadata": {
    "ExecuteTime": {
     "end_time": "2025-09-10T10:55:03.543721Z",
     "start_time": "2025-09-10T10:55:03.392306Z"
    }
   },
   "cell_type": "code",
   "source": [
    "import com.intellij.jupyter.core.core.impl.actions.NotebookCellLinesDocumentUtils.insertCells\n",
    "import com.intellij.jupyter.core.core.impl.actions.NotebookCellLinesEditorUtils.withIgnoreStandardEditorPositionKeeper\n",
    "import com.intellij.notebooks.visualization.NotebookCellLines\n",
    "import com.intellij.openapi.command.WriteCommandAction\n",
    "\n",
    "fun addNewCell(\n",
    "    cellText: String,\n",
    "    targetOrdinal: Int,\n",
    "    onInsert: (NotebookCellLines.Interval) -> Unit,\n",
    ") {\n",
    "    val project = currentProject()\n",
    "    val cellLines = NotebookCellLines.get(editor)\n",
    "    WriteCommandAction.writeCommandAction(project).withName(\"Inserting cell\").run<RuntimeException> {\n",
    "        val insertedCells = editor.withIgnoreStandardEditorPositionKeeper {\n",
    "            editor.document.insertCells(cellLines, cellText, targetOrdinal)\n",
    "        }\n",
    "        insertedCells.firstOrNull()?.let { cellInterval ->\n",
    "            onInsert(cellInterval)\n",
    "        }\n",
    "    }\n",
    "}\n",
    "\n",
    "fun addMarkDown(md: String) = addNewCell(\"\"\"\n",
    "$mdHeader\n",
    "${md}\n",
    "\"\"\".trimIndent(), currentNotebook.cellsCount() - 1, {})\n",
    "\n",
    "fun addCode(md: String) = addNewCell(\"\"\"\n",
    "$codeHeader\n",
    "${md}\n",
    "\"\"\".trimIndent(), currentNotebook.cellsCount() - 1, {})"
   ],
   "outputs": [],
   "execution_count": 8
  },
  {
   "metadata": {
    "ExecuteTime": {
     "end_time": "2025-09-10T10:55:08.338813Z",
     "start_time": "2025-09-10T10:55:08.177630Z"
    }
   },
   "cell_type": "code",
   "source": [
    "fun startLesson(lessonNumber: Int = 0) {\n",
    "    addMarkDown(lessons[lessonNumber].description)\n",
    "    addCode(\n",
    "        lessons[lessonNumber].taskInfo.files\n",
    "            .first { it.name.contains(\"Task.kt\") }\n",
    "            .let {\n",
    "                lessons[lessonNumber].folderName.resolve(it.name)\n",
    "                    .toFile().readText().substitutePlaceholders(it)\n",
    "            })\n",
    "    notebook.afterCellExecutionsProcessor.unregisterAll()\n",
    "    USE {\n",
    "        afterCellExecution { _, _ ->\n",
    "//            println(\"After cell execution: ${resultField.name} = ${resultField.value}\")\n",
    "            // Variable x will be visible inside the notebook\n",
    "            execute(\n",
    "                \"\"\"EXECUTE(lessons[$lessonNumber].folderName.resolve(lessons[$lessonNumber].taskInfo.files.filterNot { it.visible }.first().name).toFile().readText())\n",
    "                \"\"\".trimEnd()\n",
    "            )\n",
    "            val regex = Regex(\"\"\"class\\s+(\\w+)\\s*\"\"\")\n",
    "            val test = lessons[lessonNumber].folderName.resolve(lessons[lessonNumber].taskInfo.files.filterNot { it.visible }.first().name).toFile().readText()\n",
    "            val match = regex.find(test)!!\n",
    "            if (execute(\n",
    "                \"\"\"\n",
    "                import org.junit.runner.Description\n",
    "                import org.junit.runner.Runner\n",
    "                import org.junit.runner.Request\n",
    "                import org.junit.runner.JUnitCore\n",
    "                import org.junit.runner.notification.Failure\n",
    "                import org.junit.runner.notification.RunNotifier\n",
    "                val instance = ${match.groupValues[1]}()\n",
    "                val request = Request.runner(InstanceRunner(instance))\n",
    "                val result = JUnitCore().run(request)\n",
    "\n",
    "                result.failures.forEach { println(\"Test failed: ${'$'}{it.message}\") }\n",
    "                if (result.wasSuccessful()){\n",
    "                  println(\"You rock!\")\n",
    "                } else\n",
    "                  println(\"Try again!\")\n",
    "                result.wasSuccessful()\n",
    "                \"\"\"\n",
    "            ).value == true){\n",
    "                execute(\"\"\"startLesson(${lessonNumber+1})\"\"\")\n",
    "            }\n",
    "        }\n",
    "    }\n",
    "}"
   ],
   "outputs": [],
   "execution_count": 9
  },
  {
   "metadata": {
    "ExecuteTime": {
     "end_time": "2025-09-10T10:55:10.278394Z",
     "start_time": "2025-09-10T10:55:10.245828Z"
    }
   },
   "cell_type": "code",
   "source": "notebook.afterCellExecutionsProcessor.unregisterAll()",
   "outputs": [],
   "execution_count": 10
  },
  {
   "metadata": {
    "ExecuteTime": {
     "end_time": "2025-09-10T10:55:11.190825Z",
     "start_time": "2025-09-10T10:55:11.088674Z"
    }
   },
   "cell_type": "code",
   "source": "startLesson()",
   "outputs": [],
   "execution_count": 11
  },
  {
   "metadata": {},
   "cell_type": "code",
   "outputs": [],
   "execution_count": null,
   "source": ""
  }
 ],
 "metadata": {
  "kernelspec": {
   "display_name": "Kotlin",
   "language": "kotlin",
   "name": "kotlin"
  },
  "language_info": {
   "name": "kotlin",
   "version": "2.2.20-Beta2",
   "mimetype": "text/x-kotlin",
   "file_extension": ".kt",
   "pygments_lexer": "kotlin",
   "codemirror_mode": "text/x-kotlin",
   "nbconvert_exporter": ""
  },
  "ktnbPluginMetadata": {
   "sessionRunMode": "IDE_PROCESS",
   "projectDependencies": [
    "Kotlin_Koans.util.main"
   ],
   "projectLibraries": false
  }
 },
 "nbformat": 4,
 "nbformat_minor": 0
}
